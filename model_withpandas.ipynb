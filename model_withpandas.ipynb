{
 "cells": [
  {
   "cell_type": "code",
   "execution_count": null,
   "metadata": {},
   "outputs": [],
   "source": []
  },
  {
   "cell_type": "code",
   "execution_count": null,
   "metadata": {},
   "outputs": [],
   "source": [
    "import pandas as pd\n",
    "import math\n",
    "import random\n",
    "import numpy as np\n",
    "data=pd.read_csv('titanic/train.csv')\n",
    "test=pd.read_csv('titanic/test.csv')\n",
    "x_data=data.drop(['Name','Ticket','Cabin',],axis=1)\n",
    "x_data['Sex'] =x_data['Sex'].replace(['male','female'], [1,0])\n",
    "x_data['Embarked'].fillna('s', inplace = True)\n",
    "x_data['Age'].fillna(30, inplace = True)#sum('Age')/len('Age'\n",
    "x_data['Embarked'] =x_data['Embarked'].replace(['S','C','Q'], [0,1,2])\n",
    "x_data['Embarked'] =x_data['Embarked'].replace(['s','c','q'], [0,1,2])\n",
    "#test data set\n",
    "x_test=test.drop(['Name','Ticket','Cabin','Fare'],axis=1)\n",
    "x_test['Sex'] =x_test['Sex'].replace(['male','female'], [1,0])\n",
    "x_test['Embarked'].fillna('s', inplace = True)\n",
    "x_test['Age'].fillna(30, inplace = True)#sum('Age')/len('Age'\n",
    "x_test['Embarked'] =x_test['Embarked'].replace(['S','C','Q'], [0,1,2])\n",
    "x_data['Embarked'] =x_data['Embarked'].replace(['s','c','q'], [0,1,2])\n",
    "x_test.isnull().sum()\n",
    "\n",
    "\n",
    "\n",
    "\n"
   ]
  },
  {
   "cell_type": "code",
   "execution_count": null,
   "metadata": {},
   "outputs": [],
   "source": [
    "def sigmoid(z):\n",
    "    return 1 / (1 + np.exp(-z))\n",
    "\n",
    "\n",
    "# z=wx+b ...w-feature weight\n",
    "def logistic_regression(feature, weights):\n",
    "    \n",
    "    z = 0\n",
    "    \n",
    "    for i in range(len(feature)):\n",
    "        if isinstance(feature[i], (int, float)):\n",
    "            z += feature[i] * weights[i]\n",
    "        else:\n",
    "            raise TypeError(f\"Expected feature[{i}] to be int, float, or str, but got {type(feature[i])}\")\n",
    "    return sigmoid(z)\n"
   ]
  },
  {
   "cell_type": "code",
   "execution_count": null,
   "metadata": {},
   "outputs": [],
   "source": [
    "def loss(features, weights):\n",
    "    learning_rate = 0.01\n",
    "    num_iterations = 100\n",
    "    print(features)\n",
    "    \n",
    "    for _ in range(num_iterations):\n",
    "        for j in range(len(weights)):\n",
    "            weights[j] = random.uniform(-0.1, 0.1)\n",
    "        \n",
    "        gradient = [0]*len(weights)\n",
    "\n",
    "        for index, row in x_data.iterrows():\n",
    "            y_label = row[1]\n",
    "            for j in range(len(weights)):\n",
    "                gradient[j] += (logistic_regression(row[2:].values, weights) - y_label) * row[j+2]\n",
    "\n",
    "        for j in range(len(weights)):\n",
    "            weights[j] = weights[j] - learning_rate * gradient[j]\n",
    "\n",
    "        correct = 0\n",
    "\n",
    "        for index, row in x_test.iterrows():\n",
    "            y_label = row[1]\n",
    "            prediction = round(logistic_regression(row[1:].values, weights))\n",
    "            if prediction == y_label:\n",
    "                correct += 1\n",
    "        \n",
    "        accuracy = correct / len(x_test)\n",
    "        print(\"Accuracy:\", accuracy)\n",
    "        print('Prediction:',prediction)\n",
    "        print(\"Correct:\",correct)\n",
    "\n",
    "    return weights\n",
    "\n",
    "\n",
    "loss([0]*7,[0]*7)\n",
    "print(loss( [0] * 7, [0] * 7))"
   ]
  },
  {
   "cell_type": "code",
   "execution_count": null,
   "metadata": {},
   "outputs": [],
   "source": []
  },
  {
   "cell_type": "code",
   "execution_count": null,
   "metadata": {},
   "outputs": [],
   "source": []
  },
  {
   "cell_type": "code",
   "execution_count": null,
   "metadata": {},
   "outputs": [],
   "source": []
  }
 ],
 "metadata": {
  "kernelspec": {
   "display_name": "Python 3",
   "language": "python",
   "name": "python3"
  },
  "language_info": {
   "codemirror_mode": {
    "name": "ipython",
    "version": 3
   },
   "file_extension": ".py",
   "mimetype": "text/x-python",
   "name": "python",
   "nbconvert_exporter": "python",
   "pygments_lexer": "ipython3",
   "version": "3.10.10"
  }
 },
 "nbformat": 4,
 "nbformat_minor": 4
}
